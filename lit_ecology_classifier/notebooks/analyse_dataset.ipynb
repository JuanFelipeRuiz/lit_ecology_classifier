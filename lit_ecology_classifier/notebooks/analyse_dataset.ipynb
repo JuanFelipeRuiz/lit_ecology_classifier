{
 "cells": [
  {
   "cell_type": "markdown",
   "metadata": {},
   "source": [
    "# Analysis of the diffrent Zoolake dataset versions\n",
    "This notebook contains an explorative data analysis to compare the class distirbutions of the diffrent dataset versions of ZooLake. It's based on the original file `analyse_dataset.py` from the repo [plankifier](https://github.com/mbaityje/plankifier/tree/master) by M. Baitsy. \n",
    "\n",
    "## Introduction\n",
    "The zooLake dataset is a open data project from Eawag to automate the calssification of 35 diffrent lake planktons species with deep learning and other machine learning algorithms.The overall aim of the imge classification is to be able to monitor the different plankton populations over time, as plankton are effective indicators of environmental change and ecosystem health in freshwater habitats.\n",
    "\n",
    "### Data Set\n",
    "To ensure a correct classification of the machine learning models, they are only trained and tested with labeld data by taxonomists. The labeld dataset with test/validation/train split makes up the the data collection Zoolake. \n",
    "\n",
    "The collection of images of Plankton is an ongoing process with the objective of improving the classification. The most recent images that have not yet been manually labelled by a taxonomist can be found on the webpage [Aquascopre](https://aquascope.ch/) under the heading \"Latest Greifensee.\" \n",
    "\n",
    "The unlabelled images are being labelled manually by taxonomists over time. Once a sufficient number of image ave been labelled, a new labelled collection is published. These collections represent different zoological versions.\n",
    "\n",
    "### Public data set versions\n",
    "\n",
    "As of the present date, 20 September 2024, they are a two version of the ZooLake dataset o aviable for the public on the eawag open research page eric. This inculde following Versions:\n",
    "\n",
    "\n",
    "- [ZooLake](https://opendata.eawag.ch/dataset/deep-learning-classification-of-zooplankton-from-lakes), This is the initial version of the dataset referenced in the paper 'Deep Learning Classification of Lake Zooplankton' with a tota of 17900 labelled images.\n",
    "\n",
    "- [Zoolake2.0](https://data.eawag.ch/dataset/data-for-producing-plankton-classifiers-that-are-robust-to-dataset-shift), second version of the data set, which include more labelled data and the introduction of the *out-of-dataset (OOD)*. The OOD was utilised by C. Cheng et al. (2024) in their research into producing plankton classifiers that are robust to dataset shift. It also mentioned there,  that the ZooLake2.0 images come with a 2-year gap of the fist ZooLake Version \n",
    "\n",
    "\n",
    "-  [Zoolake3.0](https://opendata.eawag.ch/) incomming...\n",
    "\n",
    "### Objectives of the Analysis\n",
    "\n",
    "This explorativ data anlysis notebook aim to research following points:\n",
    "\n",
    "-  How are the distirbutions of the diffrent classes compared over the differnt data sets\n",
    "\n",
    "- Are the old version test/train/validation subsets of new Versions, as mentioned by Chen et la.\n",
    "\n",
    "\n"
   ]
  },
  {
   "cell_type": "markdown",
   "metadata": {},
   "source": [
    "## Import of Classes\n",
    "\n",
    "\n",
    "\n",
    "For the import of the The original `analyse_dataset.py`  "
   ]
  },
  {
   "cell_type": "code",
   "execution_count": null,
   "metadata": {},
   "outputs": [],
   "source": [
    "sizes=[[] for idata in range(ndatasets)]\n",
    "classes = {'name': list(set([ name for idata in range(ndatasets) for name in os.listdir(args.datapath[idata]) if os.path.isdir(os.path.join(args.datapath[idata], name))]))} # Every directory corresponds to a class. Files that aren't directories are ignored. All datasets are searched, and repeated directories count as a single class.\n",
    "classes['num']    = len(classes['name'])\n",
    "classes['num_ex'] =  np.zeros(classes['num'], dtype=int)"
   ]
  }
 ],
 "metadata": {
  "language_info": {
   "name": "python"
  }
 },
 "nbformat": 4,
 "nbformat_minor": 2
}
