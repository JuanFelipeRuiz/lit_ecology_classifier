{
 "cells": [
  {
   "cell_type": "markdown",
   "metadata": {},
   "source": [
    "# Analysis of the  ZooLake dataset versions\n",
    "This notebook contains an explorative data analysis to compare the class distirbutions of the diffrent dataset versions of ZooLake. It's based on the original file `analyse_dataset.py` from the repo [plankifier](https://github.com/mbaityje/plankifier/tree/master) by M. Baitsy. \n",
    "\n",
    "## Introduction\n",
    "The ZooLake dataset is an open data project from Eawag that aims to automate the classification of 35 different lake plankton species using deep learning and other machine learning algorithms. The objective of the image classification is to enable the monitoring of the different plankton populations over time, as plankton are effective indicators of environmental change and ecosystem health in freshwater habitats.\n",
    "\n",
    "TThe collection of images of plankton is an ongoing process, with the objective of improving the classification through the addition of more images. he most recent images that have not yet been manually labelled by a taxonomist can be accessed via the webpage [Aquascopre](https://aquascope.ch/) located under the heading \"Latest Greifensee.\" The new unlabelled images are being labelled manually by taxonomists over time. Once a sufficient number of images have been labelled, a new labelled collection is published. These collections represent the different ZooLake versions. \n",
    "\n",
    "The data set also include files, to recreate the same test/validation/train to make the model training and testing of the models comparable and reproducible.\n",
    "\n",
    "### Public data set versions\n",
    "\n",
    "As of the present date, 20 September 2024, they are a two version of the ZooLake data set  aviable for the public on the eawag open research page eric. This inculde following Versions:\n",
    "\n",
    "\n",
    "- [ZooLake](https://opendata.eawag.ch/dataset/deep-learning-classification-of-zooplankton-from-lakes),  is the initial version of the dataset referenced by the paper 'Deep Learning Classification of Lake Zooplankton' with a tota of 17900 labelled images.\n",
    "\n",
    "- [Zoolake2.0](https://data.eawag.ch/dataset/data-for-producing-plankton-classifiers-that-are-robust-to-dataset-shift), second version of the data set, which include more labelled data and the introduction of the *out-of-dataset (OOD)*. The OOD was utilised by C. Cheng et al. (2024) in their research into producing plankton classifiers that are robust to dataset shift. It also mentioned there,  that the ZooLake2.0 images come with a 2-year gap of the fist ZooLake Version and a total of 24'000 images\n",
    "\n",
    "\n",
    "-  [Zoolake3.0](https://opendata.eawag.ch/) incomming...\n",
    "\n",
    "### Objectives of the Analysis\n",
    "\n",
    "This explorativ data anlysis notebook aim to research following points:\n",
    "\n",
    "- Are they any duplicates in the image\n",
    "- How are the distirbutions of the diffrent planton classes compared over the differnt data sets\n",
    "- Are the old version of the test/train/validation sets subsets of the new versions splits, as mentioned by Chen et la.\n",
    "- Are they any data leakage in betweens of the old and new versions splits\n",
    "\n"
   ]
  },
  {
   "cell_type": "markdown",
   "metadata": {},
   "source": [
    "## Import of the data\n",
    "\n",
    "To import the data in this notebook, we focus on following two cases:\n",
    "\n",
    "**1. Set up after download of the data**\n",
    "\n",
    "This case happens, if the notebbok detect the individuals data sets are inside  the folder data (./data/raw) as Zip-File or with the inzipped with the original zip structure. The Zoolake Versions folders are adjusted, so that the individual ZooLake versions have the same structure. \n",
    "\n",
    "**2.  \n",
    "\n",
    "**2. Structur after test train split**\n",
    "\n",
    "that the individuals data sets were downloaded from Eric and copied into the folder data as Zip-File or already enzipped. When running the notebook, it checks if the folders data contains a ZipFile or the original data strucut of the zip file. If that happens, the folders are adjusted so that the folders of the individual ZooLake versions have the same structure.  Once the new common structur is set for the individuals data set, a rerun will not change the defined strucur.\n",
    "\n",
    "with the same structur.\n",
    "\n",
    "### Strutcur \n",
    "\n",
    "For the import of the The original `analyse_dataset.py`  "
   ]
  },
  {
   "cell_type": "code",
   "execution_count": null,
   "metadata": {},
   "outputs": [],
   "source": [
    "import os \n",
    "import numpy as np\n",
    "import pandas as pd"
   ]
  },
  {
   "cell_type": "markdown",
   "metadata": {},
   "source": [
    " Every directory corresponds to a class. Files that aren't directories are ignored. All datasets are searched, and repeated directories count as a single class."
   ]
  },
  {
   "cell_type": "code",
   "execution_count": null,
   "metadata": {},
   "outputs": [],
   "source": [
    "def get_classes(ndatasets):\n",
    "    \n",
    "    sizes=[[] for idata in range(ndatasets)]\n",
    "    classes = {'name': list(set([ name for idata in range(ndatasets) for name in os.listdir(args.datapath[idata]) if os.path.isdir(os.path.join(args.datapath[idata], name))]))} \n",
    "    classes['num']    = len(classes['name'])\n",
    "    classes['num_ex'] =  np.zeros(classes['num'], dtype=int)\n",
    "\n",
    "datasets = ['./data/1_zooplankton_0p5x']\n",
    "\n"
   ]
  }
 ],
 "metadata": {
  "language_info": {
   "name": "python"
  }
 },
 "nbformat": 4,
 "nbformat_minor": 2
}
