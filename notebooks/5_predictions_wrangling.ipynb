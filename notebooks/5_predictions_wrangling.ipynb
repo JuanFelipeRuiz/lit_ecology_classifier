{
 "cells": [
  {
   "cell_type": "code",
   "execution_count": 1,
   "metadata": {},
   "outputs": [],
   "source": [
    "import os\n",
    "\n",
    "import pandas as pd\n",
    "import matplotlib.pyplot as plt"
   ]
  },
  {
   "cell_type": "code",
   "execution_count": 2,
   "metadata": {},
   "outputs": [
    {
     "name": "stdout",
     "output_type": "stream",
     "text": [
      "Changing the current directory to the parent directory containing the setup.py file\n",
      "New current directory: c:\\Repos\\plankton_classifier, it will remain this working directory for the rest of the notebook\n"
     ]
    }
   ],
   "source": [
    "def check_current_work_dir():\n",
    "    if not os.path.isfile(\"setup.py\") or  os.path.basename(os.getcwd()).endswith('notebooks'):\n",
    "        print(\"Changing the current directory to the parent directory containing the setup.py file\")\n",
    "\n",
    "        # move one folder up\n",
    "        os.chdir(\"..\")\n",
    "        print(f\"New current directory: {os.getcwd()}, it will remain this working directory for the rest of the notebook\")\n",
    "\n",
    "    if not os.path.isfile(\"setup.py\"):\n",
    "        raise Exception(\"setup.py not found in the current directory\")\n",
    "check_current_work_dir()"
   ]
  },
  {
   "cell_type": "code",
   "execution_count": null,
   "metadata": {},
   "outputs": [],
   "source": []
  },
  {
   "cell_type": "code",
   "execution_count": 3,
   "metadata": {},
   "outputs": [],
   "source": [
    "df = pd.read_csv(r\"data\\raw\\lit_classifier_trainMay24\\DSPC0p5x_2019_lit_classifer_20240620.csv\")"
   ]
  },
  {
   "cell_type": "code",
   "execution_count": 4,
   "metadata": {},
   "outputs": [
    {
     "data": {
      "text/html": [
       "<div>\n",
       "<style scoped>\n",
       "    .dataframe tbody tr th:only-of-type {\n",
       "        vertical-align: middle;\n",
       "    }\n",
       "\n",
       "    .dataframe tbody tr th {\n",
       "        vertical-align: top;\n",
       "    }\n",
       "\n",
       "    .dataframe thead th {\n",
       "        text-align: right;\n",
       "    }\n",
       "</style>\n",
       "<table border=\"1\" class=\"dataframe\">\n",
       "  <thead>\n",
       "    <tr style=\"text-align: right;\">\n",
       "      <th></th>\n",
       "      <th>url</th>\n",
       "      <th>file_presplit</th>\n",
       "      <th>unix</th>\n",
       "      <th>file</th>\n",
       "      <th>taxon</th>\n",
       "      <th>timestamp</th>\n",
       "      <th>date</th>\n",
       "      <th>hour</th>\n",
       "    </tr>\n",
       "  </thead>\n",
       "  <tbody>\n",
       "    <tr>\n",
       "      <th>0</th>\n",
       "      <td>1554069601/images/SPC-EAWAG-0P5X-1554069612477...</td>\n",
       "      <td>SPC-EAWAG-0P5X-1554069612477376-975118329981-0...</td>\n",
       "      <td>1554069601</td>\n",
       "      <td>SPC-EAWAG-0P5X-1554069612477376-975118329981-0...</td>\n",
       "      <td>nauplius</td>\n",
       "      <td>2019-04-01 00:00:01</td>\n",
       "      <td>2019-04-01</td>\n",
       "      <td>0</td>\n",
       "    </tr>\n",
       "    <tr>\n",
       "      <th>1</th>\n",
       "      <td>1554069601/images/SPC-EAWAG-0P5X-1554069612477...</td>\n",
       "      <td>SPC-EAWAG-0P5X-1554069612477376-975118329981-0...</td>\n",
       "      <td>1554069601</td>\n",
       "      <td>SPC-EAWAG-0P5X-1554069612477376-975118329981-0...</td>\n",
       "      <td>rotifer</td>\n",
       "      <td>2019-04-01 00:00:01</td>\n",
       "      <td>2019-04-01</td>\n",
       "      <td>0</td>\n",
       "    </tr>\n",
       "    <tr>\n",
       "      <th>2</th>\n",
       "      <td>1554069601/images/SPC-EAWAG-0P5X-1554069618469...</td>\n",
       "      <td>SPC-EAWAG-0P5X-1554069618469080-975124330479-0...</td>\n",
       "      <td>1554069601</td>\n",
       "      <td>SPC-EAWAG-0P5X-1554069618469080-975124330479-0...</td>\n",
       "      <td>nauplius</td>\n",
       "      <td>2019-04-01 00:00:01</td>\n",
       "      <td>2019-04-01</td>\n",
       "      <td>0</td>\n",
       "    </tr>\n",
       "    <tr>\n",
       "      <th>3</th>\n",
       "      <td>1554069601/images/SPC-EAWAG-0P5X-1554069624484...</td>\n",
       "      <td>SPC-EAWAG-0P5X-1554069624484783-975130330978-0...</td>\n",
       "      <td>1554069601</td>\n",
       "      <td>SPC-EAWAG-0P5X-1554069624484783-975130330978-0...</td>\n",
       "      <td>collotheca</td>\n",
       "      <td>2019-04-01 00:00:01</td>\n",
       "      <td>2019-04-01</td>\n",
       "      <td>0</td>\n",
       "    </tr>\n",
       "    <tr>\n",
       "      <th>4</th>\n",
       "      <td>1554069601/images/SPC-EAWAG-0P5X-1554069624484...</td>\n",
       "      <td>SPC-EAWAG-0P5X-1554069624484783-975130330978-0...</td>\n",
       "      <td>1554069601</td>\n",
       "      <td>SPC-EAWAG-0P5X-1554069624484783-975130330978-0...</td>\n",
       "      <td>kellicottia</td>\n",
       "      <td>2019-04-01 00:00:01</td>\n",
       "      <td>2019-04-01</td>\n",
       "      <td>0</td>\n",
       "    </tr>\n",
       "  </tbody>\n",
       "</table>\n",
       "</div>"
      ],
      "text/plain": [
       "                                                 url  \\\n",
       "0  1554069601/images/SPC-EAWAG-0P5X-1554069612477...   \n",
       "1  1554069601/images/SPC-EAWAG-0P5X-1554069612477...   \n",
       "2  1554069601/images/SPC-EAWAG-0P5X-1554069618469...   \n",
       "3  1554069601/images/SPC-EAWAG-0P5X-1554069624484...   \n",
       "4  1554069601/images/SPC-EAWAG-0P5X-1554069624484...   \n",
       "\n",
       "                                       file_presplit        unix  \\\n",
       "0  SPC-EAWAG-0P5X-1554069612477376-975118329981-0...  1554069601   \n",
       "1  SPC-EAWAG-0P5X-1554069612477376-975118329981-0...  1554069601   \n",
       "2  SPC-EAWAG-0P5X-1554069618469080-975124330479-0...  1554069601   \n",
       "3  SPC-EAWAG-0P5X-1554069624484783-975130330978-0...  1554069601   \n",
       "4  SPC-EAWAG-0P5X-1554069624484783-975130330978-0...  1554069601   \n",
       "\n",
       "                                                file        taxon  \\\n",
       "0  SPC-EAWAG-0P5X-1554069612477376-975118329981-0...     nauplius   \n",
       "1  SPC-EAWAG-0P5X-1554069612477376-975118329981-0...      rotifer   \n",
       "2  SPC-EAWAG-0P5X-1554069618469080-975124330479-0...     nauplius   \n",
       "3  SPC-EAWAG-0P5X-1554069624484783-975130330978-0...   collotheca   \n",
       "4  SPC-EAWAG-0P5X-1554069624484783-975130330978-0...  kellicottia   \n",
       "\n",
       "             timestamp        date  hour  \n",
       "0  2019-04-01 00:00:01  2019-04-01     0  \n",
       "1  2019-04-01 00:00:01  2019-04-01     0  \n",
       "2  2019-04-01 00:00:01  2019-04-01     0  \n",
       "3  2019-04-01 00:00:01  2019-04-01     0  \n",
       "4  2019-04-01 00:00:01  2019-04-01     0  "
      ]
     },
     "execution_count": 4,
     "metadata": {},
     "output_type": "execute_result"
    }
   ],
   "source": [
    "df.head()"
   ]
  },
  {
   "cell_type": "code",
   "execution_count": 5,
   "metadata": {},
   "outputs": [],
   "source": [
    "df.drop(columns=['date','hour'], inplace=True)"
   ]
  },
  {
   "cell_type": "code",
   "execution_count": 6,
   "metadata": {},
   "outputs": [],
   "source": [
    "df[[\"url\", \"url_label\"]]  = df[\"url\"].str.split(\"------------------\", expand=True)\n",
    "df[[\"file_presplit\", \"presplit_label\"]]  = df[\"file_presplit\"].str.split(\"------------------\", expand=True)"
   ]
  },
  {
   "cell_type": "code",
   "execution_count": 8,
   "metadata": {},
   "outputs": [],
   "source": [
    "df[[\"url_label\", \"predicted_probabilities_url\"]] = df[\"url_label\"].str.split(\"/\", expand=True)\n"
   ]
  },
  {
   "cell_type": "code",
   "execution_count": 10,
   "metadata": {},
   "outputs": [
    {
     "data": {
      "text/html": [
       "<div>\n",
       "<style scoped>\n",
       "    .dataframe tbody tr th:only-of-type {\n",
       "        vertical-align: middle;\n",
       "    }\n",
       "\n",
       "    .dataframe tbody tr th {\n",
       "        vertical-align: top;\n",
       "    }\n",
       "\n",
       "    .dataframe thead th {\n",
       "        text-align: right;\n",
       "    }\n",
       "</style>\n",
       "<table border=\"1\" class=\"dataframe\">\n",
       "  <thead>\n",
       "    <tr style=\"text-align: right;\">\n",
       "      <th></th>\n",
       "      <th>url</th>\n",
       "      <th>file_presplit</th>\n",
       "      <th>unix</th>\n",
       "      <th>file</th>\n",
       "      <th>taxon</th>\n",
       "      <th>timestamp</th>\n",
       "      <th>url_label</th>\n",
       "      <th>presplit_label</th>\n",
       "      <th>predicted_probabilities_url</th>\n",
       "    </tr>\n",
       "  </thead>\n",
       "  <tbody>\n",
       "    <tr>\n",
       "      <th>0</th>\n",
       "      <td>1554069601/images/SPC-EAWAG-0P5X-1554069612477...</td>\n",
       "      <td>SPC-EAWAG-0P5X-1554069612477376-975118329981-0...</td>\n",
       "      <td>1554069601</td>\n",
       "      <td>SPC-EAWAG-0P5X-1554069612477376-975118329981-0...</td>\n",
       "      <td>nauplius</td>\n",
       "      <td>2019-04-01 00:00:01</td>\n",
       "      <td>nauplius</td>\n",
       "      <td>nauplius</td>\n",
       "      <td>1.0</td>\n",
       "    </tr>\n",
       "    <tr>\n",
       "      <th>1</th>\n",
       "      <td>1554069601/images/SPC-EAWAG-0P5X-1554069612477...</td>\n",
       "      <td>SPC-EAWAG-0P5X-1554069612477376-975118329981-0...</td>\n",
       "      <td>1554069601</td>\n",
       "      <td>SPC-EAWAG-0P5X-1554069612477376-975118329981-0...</td>\n",
       "      <td>rotifer</td>\n",
       "      <td>2019-04-01 00:00:01</td>\n",
       "      <td>rotifer</td>\n",
       "      <td>rotifer</td>\n",
       "      <td>0.9974931478500366</td>\n",
       "    </tr>\n",
       "    <tr>\n",
       "      <th>2</th>\n",
       "      <td>1554069601/images/SPC-EAWAG-0P5X-1554069618469...</td>\n",
       "      <td>SPC-EAWAG-0P5X-1554069618469080-975124330479-0...</td>\n",
       "      <td>1554069601</td>\n",
       "      <td>SPC-EAWAG-0P5X-1554069618469080-975124330479-0...</td>\n",
       "      <td>nauplius</td>\n",
       "      <td>2019-04-01 00:00:01</td>\n",
       "      <td>nauplius</td>\n",
       "      <td>nauplius</td>\n",
       "      <td>1.0</td>\n",
       "    </tr>\n",
       "    <tr>\n",
       "      <th>3</th>\n",
       "      <td>1554069601/images/SPC-EAWAG-0P5X-1554069624484...</td>\n",
       "      <td>SPC-EAWAG-0P5X-1554069624484783-975130330978-0...</td>\n",
       "      <td>1554069601</td>\n",
       "      <td>SPC-EAWAG-0P5X-1554069624484783-975130330978-0...</td>\n",
       "      <td>collotheca</td>\n",
       "      <td>2019-04-01 00:00:01</td>\n",
       "      <td>collotheca</td>\n",
       "      <td>collotheca</td>\n",
       "      <td>0.9909690022468567</td>\n",
       "    </tr>\n",
       "    <tr>\n",
       "      <th>4</th>\n",
       "      <td>1554069601/images/SPC-EAWAG-0P5X-1554069624484...</td>\n",
       "      <td>SPC-EAWAG-0P5X-1554069624484783-975130330978-0...</td>\n",
       "      <td>1554069601</td>\n",
       "      <td>SPC-EAWAG-0P5X-1554069624484783-975130330978-0...</td>\n",
       "      <td>kellicottia</td>\n",
       "      <td>2019-04-01 00:00:01</td>\n",
       "      <td>kellicottia</td>\n",
       "      <td>kellicottia</td>\n",
       "      <td>0.9986722469329834</td>\n",
       "    </tr>\n",
       "  </tbody>\n",
       "</table>\n",
       "</div>"
      ],
      "text/plain": [
       "                                                 url  \\\n",
       "0  1554069601/images/SPC-EAWAG-0P5X-1554069612477...   \n",
       "1  1554069601/images/SPC-EAWAG-0P5X-1554069612477...   \n",
       "2  1554069601/images/SPC-EAWAG-0P5X-1554069618469...   \n",
       "3  1554069601/images/SPC-EAWAG-0P5X-1554069624484...   \n",
       "4  1554069601/images/SPC-EAWAG-0P5X-1554069624484...   \n",
       "\n",
       "                                       file_presplit        unix  \\\n",
       "0  SPC-EAWAG-0P5X-1554069612477376-975118329981-0...  1554069601   \n",
       "1  SPC-EAWAG-0P5X-1554069612477376-975118329981-0...  1554069601   \n",
       "2  SPC-EAWAG-0P5X-1554069618469080-975124330479-0...  1554069601   \n",
       "3  SPC-EAWAG-0P5X-1554069624484783-975130330978-0...  1554069601   \n",
       "4  SPC-EAWAG-0P5X-1554069624484783-975130330978-0...  1554069601   \n",
       "\n",
       "                                                file        taxon  \\\n",
       "0  SPC-EAWAG-0P5X-1554069612477376-975118329981-0...     nauplius   \n",
       "1  SPC-EAWAG-0P5X-1554069612477376-975118329981-0...      rotifer   \n",
       "2  SPC-EAWAG-0P5X-1554069618469080-975124330479-0...     nauplius   \n",
       "3  SPC-EAWAG-0P5X-1554069624484783-975130330978-0...   collotheca   \n",
       "4  SPC-EAWAG-0P5X-1554069624484783-975130330978-0...  kellicottia   \n",
       "\n",
       "             timestamp     url_label presplit_label  \\\n",
       "0  2019-04-01 00:00:01      nauplius       nauplius   \n",
       "1  2019-04-01 00:00:01       rotifer        rotifer   \n",
       "2  2019-04-01 00:00:01      nauplius       nauplius   \n",
       "3  2019-04-01 00:00:01    collotheca     collotheca   \n",
       "4  2019-04-01 00:00:01   kellicottia    kellicottia   \n",
       "\n",
       "  predicted_probabilities_url  \n",
       "0                         1.0  \n",
       "1          0.9974931478500366  \n",
       "2                         1.0  \n",
       "3          0.9909690022468567  \n",
       "4          0.9986722469329834  "
      ]
     },
     "execution_count": 10,
     "metadata": {},
     "output_type": "execute_result"
    }
   ],
   "source": [
    "df.head()"
   ]
  },
  {
   "cell_type": "code",
   "execution_count": 15,
   "metadata": {},
   "outputs": [],
   "source": [
    "# preparation to compare the labels\n",
    "df[\"url_label\"] = df[\"url_label\"].str.strip()\n",
    "df[\"presplit_label\"] = df[\"presplit_label\"].str.strip()\n",
    "\n",
    "\n",
    "# check if the labels are the same\n",
    "df[\"label_comparison\"] = df[\"url_label\"] == df[\"taxon\"]"
   ]
  },
  {
   "cell_type": "code",
   "execution_count": 17,
   "metadata": {},
   "outputs": [
    {
     "data": {
      "text/plain": [
       "taxon\n",
       "maybe_cyano                          1136392\n",
       "unknown                               814696\n",
       "dinobryon                             793199\n",
       "uroglena                              275699\n",
       "asterionella                          177164\n",
       "rotifer                               164301\n",
       "nauplius                              128404\n",
       "cyclops                                61809\n",
       "fragilaria                             41721\n",
       "eudiaptomus                            35539\n",
       "daphnia                                33870\n",
       "fish                                   29422\n",
       "filament                               27971\n",
       "ceratium                               24530\n",
       "asplanchna                             11710\n",
       "synchaeta                              10512\n",
       "kellicottia                            10131\n",
       "polyarthra                              9546\n",
       "paradileptus                            8730\n",
       "keratella_cochlearis                    8532\n",
       "diaphanosoma                            5746\n",
       "keratella_quadrata                      5415\n",
       "aphanizomenon                           4779\n",
       "trichocerca                             4756\n",
       "collotheca                              4667\n",
       "daphnia_skin                            3200\n",
       "conochilus                              2650\n",
       "bosmina                                 1694\n",
       "pennate_diatom                          1174\n",
       "copepod_skin                            1035\n",
       "diatom_chain                             801\n",
       "chlorophyte_colonial_reproduction        600\n",
       "leptodora                                575\n",
       "chaoborus                                127\n",
       "limnoraphis                               78\n",
       "hydra                                     70\n",
       "chydorus                                  38\n",
       "daphnia_cucullata                          2\n",
       "Name: count, dtype: int64"
      ]
     },
     "execution_count": 17,
     "metadata": {},
     "output_type": "execute_result"
    }
   ],
   "source": [
    "df[\"taxon\"].value_counts()"
   ]
  },
  {
   "cell_type": "code",
   "execution_count": 18,
   "metadata": {},
   "outputs": [
    {
     "data": {
      "text/plain": [
       "url_label\n",
       "maybe_cyano                          1136392\n",
       "unknown                               814696\n",
       "dinobryon                             793199\n",
       "uroglena                              275699\n",
       "asterionella                          177164\n",
       "rotifer                               164301\n",
       "nauplius                              128404\n",
       "cyclops                                61809\n",
       "fragilaria                             41721\n",
       "eudiaptomus                            35539\n",
       "daphnia                                33870\n",
       "fish                                   29422\n",
       "filament                               27971\n",
       "ceratium                               24530\n",
       "asplanchna                             11710\n",
       "synchaeta                              10512\n",
       "kellicottia                            10131\n",
       "polyarthra                              9546\n",
       "paradileptus                            8730\n",
       "keratella_cochlearis                    8532\n",
       "diaphanosoma                            5746\n",
       "keratella_quadrata                      5415\n",
       "aphanizomenon                           4779\n",
       "trichocerca                             4756\n",
       "collotheca                              4667\n",
       "daphnia_skin                            3200\n",
       "conochilus                              2650\n",
       "bosmina                                 1694\n",
       "pennate_diatom                          1174\n",
       "copepod_skin                            1035\n",
       "diatom_chain                             801\n",
       "chlorophyte_colonial_reproduction        600\n",
       "leptodora                                575\n",
       "chaoborus                                127\n",
       "limnoraphis                               78\n",
       "hydra                                     70\n",
       "chydorus                                  38\n",
       "daphnia_cucullata                          2\n",
       "Name: count, dtype: int64"
      ]
     },
     "execution_count": 18,
     "metadata": {},
     "output_type": "execute_result"
    }
   ],
   "source": [
    "df[\"url_label\"].value_counts()"
   ]
  },
  {
   "cell_type": "code",
   "execution_count": 16,
   "metadata": {},
   "outputs": [
    {
     "data": {
      "text/plain": [
       "label_comparison\n",
       "True    3841285\n",
       "Name: count, dtype: int64"
      ]
     },
     "execution_count": 16,
     "metadata": {},
     "output_type": "execute_result"
    }
   ],
   "source": [
    "df[\"label_comparison\"].value_counts()"
   ]
  }
 ],
 "metadata": {
  "kernelspec": {
   "display_name": ".venv",
   "language": "python",
   "name": "python3"
  },
  "language_info": {
   "codemirror_mode": {
    "name": "ipython",
    "version": 3
   },
   "file_extension": ".py",
   "mimetype": "text/x-python",
   "name": "python",
   "nbconvert_exporter": "python",
   "pygments_lexer": "ipython3",
   "version": "3.11.7"
  }
 },
 "nbformat": 4,
 "nbformat_minor": 2
}
